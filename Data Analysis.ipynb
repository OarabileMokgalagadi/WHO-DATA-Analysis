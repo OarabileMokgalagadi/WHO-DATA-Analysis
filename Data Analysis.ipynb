{
 "cells": [
  {
   "cell_type": "code",
   "execution_count": 26,
   "metadata": {},
   "outputs": [],
   "source": [
    "#import libraries\n",
    "import pymongo\n",
    "from pymongo import MongoClient \n",
    "import pandas as pd\n",
    "import matplotlib as plt\n",
    "import seaborn as sns\n",
    "from pandas import DataFrame"
   ]
  },
  {
   "cell_type": "code",
   "execution_count": 19,
   "metadata": {},
   "outputs": [],
   "source": [
    "#connect to the database\n",
    "client = pymongo.MongoClient(\"mongodb://localhost:27017\")"
   ]
  },
  {
   "cell_type": "code",
   "execution_count": 20,
   "metadata": {},
   "outputs": [
    {
     "name": "stdout",
     "output_type": "stream",
     "text": [
      "['DataTracker', 'ProgressTracker', 'WHO_DATA', 'admin', 'config', 'local']\n"
     ]
    }
   ],
   "source": [
    "#Check available databases\n",
    "print(client.list_database_names())"
   ]
  },
  {
   "cell_type": "code",
   "execution_count": 30,
   "metadata": {},
   "outputs": [],
   "source": [
    "mydb = client['WHO_DATA']"
   ]
  },
  {
   "cell_type": "code",
   "execution_count": 33,
   "metadata": {},
   "outputs": [
    {
     "data": {
      "text/html": [
       "<div>\n",
       "<style scoped>\n",
       "    .dataframe tbody tr th:only-of-type {\n",
       "        vertical-align: middle;\n",
       "    }\n",
       "\n",
       "    .dataframe tbody tr th {\n",
       "        vertical-align: top;\n",
       "    }\n",
       "\n",
       "    .dataframe thead th {\n",
       "        text-align: right;\n",
       "    }\n",
       "</style>\n",
       "<table border=\"1\" class=\"dataframe\">\n",
       "  <thead>\n",
       "    <tr style=\"text-align: right;\">\n",
       "      <th></th>\n",
       "      <th>COUNTRY_NAME</th>\n",
       "      <th>Date_epicrv</th>\n",
       "      <th>ISO_CODE</th>\n",
       "      <th>NewCase</th>\n",
       "      <th>NewDeath</th>\n",
       "      <th>OBJECTID</th>\n",
       "      <th>TotalCase</th>\n",
       "      <th>TotalDeath</th>\n",
       "      <th>_id</th>\n",
       "    </tr>\n",
       "  </thead>\n",
       "  <tbody>\n",
       "    <tr>\n",
       "      <th>0</th>\n",
       "      <td>Afghanistan</td>\n",
       "      <td>2020-02-24T00:00:00.000Z</td>\n",
       "      <td>AFG</td>\n",
       "      <td>1</td>\n",
       "      <td>0</td>\n",
       "      <td>1</td>\n",
       "      <td>1</td>\n",
       "      <td>0</td>\n",
       "      <td>5f36a761ffc3be3620a2edc9</td>\n",
       "    </tr>\n",
       "    <tr>\n",
       "      <th>1</th>\n",
       "      <td>Afghanistan</td>\n",
       "      <td>2020-02-25T00:00:00.000Z</td>\n",
       "      <td>AFG</td>\n",
       "      <td>0</td>\n",
       "      <td>0</td>\n",
       "      <td>2</td>\n",
       "      <td>1</td>\n",
       "      <td>0</td>\n",
       "      <td>5f36a762ffc3be3620a2edca</td>\n",
       "    </tr>\n",
       "    <tr>\n",
       "      <th>2</th>\n",
       "      <td>Afghanistan</td>\n",
       "      <td>2020-02-26T00:00:00.000Z</td>\n",
       "      <td>AFG</td>\n",
       "      <td>0</td>\n",
       "      <td>0</td>\n",
       "      <td>3</td>\n",
       "      <td>1</td>\n",
       "      <td>0</td>\n",
       "      <td>5f36a762ffc3be3620a2edcb</td>\n",
       "    </tr>\n",
       "    <tr>\n",
       "      <th>3</th>\n",
       "      <td>Afghanistan</td>\n",
       "      <td>2020-02-27T00:00:00.000Z</td>\n",
       "      <td>AFG</td>\n",
       "      <td>0</td>\n",
       "      <td>0</td>\n",
       "      <td>4</td>\n",
       "      <td>1</td>\n",
       "      <td>0</td>\n",
       "      <td>5f36a762ffc3be3620a2edcc</td>\n",
       "    </tr>\n",
       "    <tr>\n",
       "      <th>4</th>\n",
       "      <td>Afghanistan</td>\n",
       "      <td>2020-02-28T00:00:00.000Z</td>\n",
       "      <td>AFG</td>\n",
       "      <td>0</td>\n",
       "      <td>0</td>\n",
       "      <td>5</td>\n",
       "      <td>1</td>\n",
       "      <td>0</td>\n",
       "      <td>5f36a762ffc3be3620a2edcd</td>\n",
       "    </tr>\n",
       "  </tbody>\n",
       "</table>\n",
       "</div>"
      ],
      "text/plain": [
       "  COUNTRY_NAME               Date_epicrv ISO_CODE NewCase NewDeath OBJECTID  \\\n",
       "0  Afghanistan  2020-02-24T00:00:00.000Z      AFG       1        0        1   \n",
       "1  Afghanistan  2020-02-25T00:00:00.000Z      AFG       0        0        2   \n",
       "2  Afghanistan  2020-02-26T00:00:00.000Z      AFG       0        0        3   \n",
       "3  Afghanistan  2020-02-27T00:00:00.000Z      AFG       0        0        4   \n",
       "4  Afghanistan  2020-02-28T00:00:00.000Z      AFG       0        0        5   \n",
       "\n",
       "  TotalCase TotalDeath                       _id  \n",
       "0         1          0  5f36a761ffc3be3620a2edc9  \n",
       "1         1          0  5f36a762ffc3be3620a2edca  \n",
       "2         1          0  5f36a762ffc3be3620a2edcb  \n",
       "3         1          0  5f36a762ffc3be3620a2edcc  \n",
       "4         1          0  5f36a762ffc3be3620a2edcd  "
      ]
     },
     "execution_count": 33,
     "metadata": {},
     "output_type": "execute_result"
    }
   ],
   "source": [
    "#Convert to daFRAME\n",
    "df = DataFrame(list(mydb.Covid_Cases.find({})))\n",
    "df.head()"
   ]
  },
  {
   "cell_type": "code",
   "execution_count": 69,
   "metadata": {},
   "outputs": [],
   "source": [
    "data = df.drop('_id', 1)"
   ]
  },
  {
   "cell_type": "code",
   "execution_count": 70,
   "metadata": {},
   "outputs": [
    {
     "data": {
      "text/html": [
       "<div>\n",
       "<style scoped>\n",
       "    .dataframe tbody tr th:only-of-type {\n",
       "        vertical-align: middle;\n",
       "    }\n",
       "\n",
       "    .dataframe tbody tr th {\n",
       "        vertical-align: top;\n",
       "    }\n",
       "\n",
       "    .dataframe thead th {\n",
       "        text-align: right;\n",
       "    }\n",
       "</style>\n",
       "<table border=\"1\" class=\"dataframe\">\n",
       "  <thead>\n",
       "    <tr style=\"text-align: right;\">\n",
       "      <th></th>\n",
       "      <th>COUNTRY_NAME</th>\n",
       "      <th>Date_epicrv</th>\n",
       "      <th>ISO_CODE</th>\n",
       "      <th>NewCase</th>\n",
       "      <th>NewDeath</th>\n",
       "      <th>OBJECTID</th>\n",
       "      <th>TotalCase</th>\n",
       "      <th>TotalDeath</th>\n",
       "    </tr>\n",
       "  </thead>\n",
       "  <tbody>\n",
       "    <tr>\n",
       "      <th>0</th>\n",
       "      <td>Afghanistan</td>\n",
       "      <td>2020-02-24T00:00:00.000Z</td>\n",
       "      <td>AFG</td>\n",
       "      <td>1</td>\n",
       "      <td>0</td>\n",
       "      <td>1</td>\n",
       "      <td>1</td>\n",
       "      <td>0</td>\n",
       "    </tr>\n",
       "    <tr>\n",
       "      <th>1</th>\n",
       "      <td>Afghanistan</td>\n",
       "      <td>2020-02-25T00:00:00.000Z</td>\n",
       "      <td>AFG</td>\n",
       "      <td>0</td>\n",
       "      <td>0</td>\n",
       "      <td>2</td>\n",
       "      <td>1</td>\n",
       "      <td>0</td>\n",
       "    </tr>\n",
       "    <tr>\n",
       "      <th>2</th>\n",
       "      <td>Afghanistan</td>\n",
       "      <td>2020-02-26T00:00:00.000Z</td>\n",
       "      <td>AFG</td>\n",
       "      <td>0</td>\n",
       "      <td>0</td>\n",
       "      <td>3</td>\n",
       "      <td>1</td>\n",
       "      <td>0</td>\n",
       "    </tr>\n",
       "    <tr>\n",
       "      <th>3</th>\n",
       "      <td>Afghanistan</td>\n",
       "      <td>2020-02-27T00:00:00.000Z</td>\n",
       "      <td>AFG</td>\n",
       "      <td>0</td>\n",
       "      <td>0</td>\n",
       "      <td>4</td>\n",
       "      <td>1</td>\n",
       "      <td>0</td>\n",
       "    </tr>\n",
       "    <tr>\n",
       "      <th>4</th>\n",
       "      <td>Afghanistan</td>\n",
       "      <td>2020-02-28T00:00:00.000Z</td>\n",
       "      <td>AFG</td>\n",
       "      <td>0</td>\n",
       "      <td>0</td>\n",
       "      <td>5</td>\n",
       "      <td>1</td>\n",
       "      <td>0</td>\n",
       "    </tr>\n",
       "  </tbody>\n",
       "</table>\n",
       "</div>"
      ],
      "text/plain": [
       "  COUNTRY_NAME               Date_epicrv ISO_CODE NewCase NewDeath OBJECTID  \\\n",
       "0  Afghanistan  2020-02-24T00:00:00.000Z      AFG       1        0        1   \n",
       "1  Afghanistan  2020-02-25T00:00:00.000Z      AFG       0        0        2   \n",
       "2  Afghanistan  2020-02-26T00:00:00.000Z      AFG       0        0        3   \n",
       "3  Afghanistan  2020-02-27T00:00:00.000Z      AFG       0        0        4   \n",
       "4  Afghanistan  2020-02-28T00:00:00.000Z      AFG       0        0        5   \n",
       "\n",
       "  TotalCase TotalDeath  \n",
       "0         1          0  \n",
       "1         1          0  \n",
       "2         1          0  \n",
       "3         1          0  \n",
       "4         1          0  "
      ]
     },
     "execution_count": 70,
     "metadata": {},
     "output_type": "execute_result"
    }
   ],
   "source": [
    "data.head()"
   ]
  },
  {
   "cell_type": "code",
   "execution_count": 71,
   "metadata": {},
   "outputs": [
    {
     "name": "stdout",
     "output_type": "stream",
     "text": [
      "<class 'pandas.core.frame.DataFrame'>\n",
      "RangeIndex: 10533 entries, 0 to 10532\n",
      "Data columns (total 8 columns):\n",
      "COUNTRY_NAME    10533 non-null object\n",
      "Date_epicrv     10533 non-null object\n",
      "ISO_CODE        10533 non-null object\n",
      "NewCase         10533 non-null object\n",
      "NewDeath        10533 non-null object\n",
      "OBJECTID        10533 non-null object\n",
      "TotalCase       10533 non-null object\n",
      "TotalDeath      10533 non-null object\n",
      "dtypes: object(8)\n",
      "memory usage: 658.4+ KB\n"
     ]
    }
   ],
   "source": [
    "data.info()"
   ]
  },
  {
   "cell_type": "code",
   "execution_count": 72,
   "metadata": {},
   "outputs": [],
   "source": [
    "# convert just columns \"a\" and \"b\"\n",
    "data[[\"NewCase\", \"NewDeath\" ,\"TotalCase\"]] = data[[\"NewCase\", \"NewDeath\",\"TotalCase\"]].apply(pd.to_numeric)"
   ]
  },
  {
   "cell_type": "code",
   "execution_count": 73,
   "metadata": {},
   "outputs": [],
   "source": [
    "df3 = data.head(250)"
   ]
  },
  {
   "cell_type": "code",
   "execution_count": 74,
   "metadata": {},
   "outputs": [
    {
     "data": {
      "image/png": "[encoded data removed]",
      "text/plain": [
       "<Figure size 432x288 with 1 Axes>"
      ]
     },
     "metadata": {
      "needs_background": "light"
     },
     "output_type": "display_data"
    }
   ],
   "source": [
    "#creating simple line plot\n",
    "ax = sns.lineplot(x='COUNTRY_NAME',y='TotalCase',data = df3)"
   ]
  }
 ],
 "metadata": {
  "kernelspec": {
   "display_name": "Python 3",
   "language": "python",
   "name": "python3"
  },
  "language_info": {
   "codemirror_mode": {
    "name": "ipython",
    "version": 3
   },
   "file_extension": ".py",
   "mimetype": "text/x-python",
   "name": "python",
   "nbconvert_exporter": "python",
   "pygments_lexer": "ipython3",
   "version": "3.7.1"
  }
 },
 "nbformat": 4,
 "nbformat_minor": 2
}
